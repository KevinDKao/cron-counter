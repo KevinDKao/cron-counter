{
 "cells": [
  {
   "cell_type": "code",
   "execution_count": null,
   "id": "76dbf46b-2528-4d9f-97cf-1192819291a7",
   "metadata": {},
   "outputs": [],
   "source": [
    "import os\n",
    "GITHUB_TOKEN = os.getenv('GITHUB_TOKEN')  # You'll need to set this environment variable\n",
    "print(GITHUB_TOKEN)"
   ]
  }
 ],
 "metadata": {
  "kernelspec": {
   "display_name": "Python [conda env:miniconda3-systools39]",
   "language": "python",
   "name": "conda-env-miniconda3-systools39-py"
  },
  "language_info": {
   "codemirror_mode": {
    "name": "ipython",
    "version": 3
   },
   "file_extension": ".py",
   "mimetype": "text/x-python",
   "name": "python",
   "nbconvert_exporter": "python",
   "pygments_lexer": "ipython3",
   "version": "3.9.16"
  }
 },
 "nbformat": 4,
 "nbformat_minor": 5
}
